{
 "cells": [
  {
   "cell_type": "markdown",
   "metadata": {},
   "source": [
    "# 42. Convert MySQL table to Pandas DataFrame(Python dictionary)\n",
    "\n",
    "\n",
    "[How to Convert MySQL Table to Pandas DataFrame / Python Dictionary](https://blog.softhints.com/convert-mysql-table-pandas-dataframe-python-dictionary/)\n",
    "\n",
    "* [PyMySQL](https://pypi.org/project/PyMySQL/) + [SQLAlchemy](https://pypi.org/project/SQLAlchemy/) - the shortest and easiest way to convert MySQL table to Python dict\n",
    "* [mysql.connector](https://pypi.org/project/mysql-connector-python/)\n",
    "* [pyodbc](https://pypi.org/project/pyodbc/) in order to connect to MySQL database, read table and convert it to DataFrame or Python dict."
   ]
  },
  {
   "cell_type": "markdown",
   "metadata": {},
   "source": [
    "![](https://blog.softhints.com/content/images/2020/11/MySQL_table_to_Pandas_DataFrame_to_Python_dict.png)"
   ]
  },
  {
   "cell_type": "code",
   "execution_count": 7,
   "metadata": {},
   "outputs": [],
   "source": [
    "password = ''"
   ]
  },
  {
   "cell_type": "markdown",
   "metadata": {},
   "source": [
    "## 1: Convert MySQL Table to DataFrame with PyMySQL + SQLAlchemy "
   ]
  },
  {
   "cell_type": "code",
   "execution_count": 2,
   "metadata": {},
   "outputs": [
    {
     "data": {
      "text/plain": [
       "{'id': {0: 1, 1: 2, 2: 3, 3: 4, 4: 5},\n",
       " 'name': {0: 'Emma', 1: 'Ann', 2: 'Kim', 3: 'Olivia', 4: 'Victoria'}}"
      ]
     },
     "execution_count": 2,
     "metadata": {},
     "output_type": "execute_result"
    }
   ],
   "source": [
    "from sqlalchemy import create_engine\n",
    "import pymysql\n",
    "import pandas as pd\n",
    "\n",
    "db_connection_str = 'mysql+pymysql://root:' + password + '@localhost:3306/test'\n",
    "db_connection = create_engine(db_connection_str)\n",
    "\n",
    "df = pd.read_sql('SELECT * FROM girls', con=db_connection)\n",
    "df.to_dict()"
   ]
  },
  {
   "cell_type": "code",
   "execution_count": 3,
   "metadata": {},
   "outputs": [
    {
     "data": {
      "text/plain": [
       "[{'id': 1, 'name': 'Emma'},\n",
       " {'id': 2, 'name': 'Ann'},\n",
       " {'id': 3, 'name': 'Kim'},\n",
       " {'id': 4, 'name': 'Olivia'},\n",
       " {'id': 5, 'name': 'Victoria'}]"
      ]
     },
     "execution_count": 3,
     "metadata": {},
     "output_type": "execute_result"
    }
   ],
   "source": [
    "df.to_dict('records')"
   ]
  },
  {
   "cell_type": "code",
   "execution_count": 4,
   "metadata": {},
   "outputs": [
    {
     "data": {
      "text/plain": [
       "{'id': [1, 2, 3, 4, 5], 'name': ['Emma', 'Ann', 'Kim', 'Olivia', 'Victoria']}"
      ]
     },
     "execution_count": 4,
     "metadata": {},
     "output_type": "execute_result"
    }
   ],
   "source": [
    "df.to_dict('list')"
   ]
  },
  {
   "cell_type": "code",
   "execution_count": 5,
   "metadata": {},
   "outputs": [
    {
     "data": {
      "text/plain": [
       "{0: {'id': 1, 'name': 'Emma'},\n",
       " 1: {'id': 2, 'name': 'Ann'},\n",
       " 2: {'id': 3, 'name': 'Kim'},\n",
       " 3: {'id': 4, 'name': 'Olivia'},\n",
       " 4: {'id': 5, 'name': 'Victoria'}}"
      ]
     },
     "execution_count": 5,
     "metadata": {},
     "output_type": "execute_result"
    }
   ],
   "source": [
    "df.to_dict('index')"
   ]
  },
  {
   "cell_type": "markdown",
   "metadata": {},
   "source": [
    "## 2: Convert MySQL Table to DataFrame with mysql.connector"
   ]
  },
  {
   "cell_type": "code",
   "execution_count": 6,
   "metadata": {},
   "outputs": [
    {
     "data": {
      "text/plain": [
       "{0: {0: 1, 1: 2, 2: 3, 3: 4, 4: 5},\n",
       " 1: {0: bytearray(b'Emma'),\n",
       "  1: bytearray(b'Ann'),\n",
       "  2: bytearray(b'Kim'),\n",
       "  3: bytearray(b'Olivia'),\n",
       "  4: bytearray(b'Victoria')}}"
      ]
     },
     "execution_count": 6,
     "metadata": {},
     "output_type": "execute_result"
    }
   ],
   "source": [
    "import pandas as pd\n",
    "import mysql.connector\n",
    "\n",
    "# Setup MySQL connection\n",
    "db = mysql.connector.connect(\n",
    "    host=\"localhost\",              # your host, usually localhost\n",
    "    user=\"root\",            # your username\n",
    "    password=password,        # your password\n",
    "    database=\"test\"     # name of the data base\n",
    ")   \n",
    "\n",
    "# You must create a Cursor object. It will let you execute all the queries you need\n",
    "cur = db.cursor()\n",
    "\n",
    "# Use all the SQL you like\n",
    "cur.execute(\"SELECT * FROM girls\")\n",
    "\n",
    "# Put it all to a data frame\n",
    "df_sql_data = pd.DataFrame(cur.fetchall())\n",
    "\n",
    "# Close the session\n",
    "db.close()\n",
    "\n",
    "# Show the data\n",
    "df_sql_data.to_dict()"
   ]
  },
  {
   "cell_type": "code",
   "execution_count": null,
   "metadata": {},
   "outputs": [],
   "source": []
  }
 ],
 "metadata": {
  "kernelspec": {
   "display_name": "Python 3",
   "language": "python",
   "name": "python3"
  },
  "language_info": {
   "codemirror_mode": {
    "name": "ipython",
    "version": 3
   },
   "file_extension": ".py",
   "mimetype": "text/x-python",
   "name": "python",
   "nbconvert_exporter": "python",
   "pygments_lexer": "ipython3",
   "version": "3.8.4"
  }
 },
 "nbformat": 4,
 "nbformat_minor": 2
}
